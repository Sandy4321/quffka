{
 "cells": [
  {
   "cell_type": "code",
   "execution_count": 1,
   "metadata": {},
   "outputs": [
    {
     "name": "stderr",
     "output_type": "stream",
     "text": [
      "Use token from .telepythrc.\n"
     ]
    }
   ],
   "source": [
    "import numpy as np\n",
    "import matplotlib.pyplot as plt\n",
    "%matplotlib inline\n",
    "from tqdm import tnrange\n",
    "from telepyth import TelepythClient\n",
    "tp = TelepythClient()"
   ]
  },
  {
   "cell_type": "code",
   "execution_count": 2,
   "metadata": {},
   "outputs": [
    {
     "name": "stdout",
     "output_type": "stream",
     "text": [
      "16\n",
      "24\n"
     ]
    }
   ],
   "source": [
    "import ctypes\n",
    "mkl_rt = ctypes.CDLL('libmkl_rt.so')\n",
    "print(mkl_rt.mkl_get_max_threads())\n",
    "mkl_get_max_threads = mkl_rt.mkl_get_max_threads\n",
    "def mkl_set_num_threads(cores):\n",
    "    mkl_rt.mkl_set_num_threads(ctypes.byref(ctypes.c_int(cores)))\n",
    "\n",
    "mkl_set_num_threads(24)\n",
    "print(mkl_get_max_threads())"
   ]
  },
  {
   "cell_type": "code",
   "execution_count": 3,
   "metadata": {},
   "outputs": [],
   "source": [
    "from sklearn.svm import SVR"
   ]
  },
  {
   "cell_type": "code",
   "execution_count": 4,
   "metadata": {},
   "outputs": [],
   "source": [
    "from quffka.dataset import make_dataset\n",
    "from quffka.kernels import arccos0_kernel, arccos1_kernel\n",
    "from quffka.performance import get_scores\n",
    "from quffka.visualize import plot_errors"
   ]
  },
  {
   "cell_type": "markdown",
   "metadata": {},
   "source": [
    "## Settings"
   ]
  },
  {
   "cell_type": "code",
   "execution_count": 5,
   "metadata": {},
   "outputs": [],
   "source": [
    "N = 2\n",
    "runs = 2\n",
    "exact = {}\n",
    "acc_d = {}"
   ]
  },
  {
   "cell_type": "code",
   "execution_count": null,
   "metadata": {},
   "outputs": [],
   "source": [
    "params = [1, N, runs, 0, 1, None, None]  # for plotting purposes"
   ]
  },
  {
   "cell_type": "code",
   "execution_count": 6,
   "metadata": {},
   "outputs": [],
   "source": [
    "kernels = ['RBF', 'Arccos 0', 'Arccos 1']\n",
    "approx_types = ['G', 'Gort', 'ROM', 'QMC', 'GQ', 'B']\n",
    "datasets = ['Powerplant', 'LETTER', 'USPS']\n",
    "scores = {d:{k:{a:np.zeros((N, runs)) for a in approx_types} for k in kernels} for d in datasets}"
   ]
  },
  {
   "cell_type": "code",
   "execution_count": 7,
   "metadata": {},
   "outputs": [
    {
     "data": {
      "text/plain": [
       "array([[0., 0.],\n",
       "       [0., 0.]])"
      ]
     },
     "execution_count": 7,
     "metadata": {},
     "output_type": "execute_result"
    }
   ],
   "source": [
    "scores['USPS']['RBF']['Gort']"
   ]
  },
  {
   "cell_type": "markdown",
   "metadata": {},
   "source": [
    "# Powerplant"
   ]
  },
  {
   "cell_type": "code",
   "execution_count": 8,
   "metadata": {},
   "outputs": [],
   "source": [
    "dataset_name = 'Powerplant'"
   ]
  },
  {
   "cell_type": "markdown",
   "metadata": {},
   "source": [
    "## compute scores with exact kernels"
   ]
  },
  {
   "cell_type": "code",
   "execution_count": 9,
   "metadata": {},
   "outputs": [],
   "source": [
    "def get_exact_scores(dataset_name):\n",
    "    dataset, _ = make_dataset(dataset_name)\n",
    "    xtrain, ytrain, xtest, ytest = dataset\n",
    "    \n",
    "    clf_rbf = SVR()\n",
    "    clf_rbf.fit(xtrain, ytrain)\n",
    "    exact_rbf = clf_rbf.score(xtest, ytest)\n",
    "\n",
    "    clf_arccos1 = SVR(kernel=arccos1_kernel)\n",
    "    clf_arccos1.fit(xtrain, ytrain)\n",
    "    exact_arccos1 = clf_arccos1.score(xtest, ytest)\n",
    "\n",
    "    clf_arccos0 = SVR(kernel=arccos0_kernel)\n",
    "    clf_arccos0.fit(xtrain, ytrain)\n",
    "    exact_arccos0 = clf_arccos0.score(xtest, ytest)\n",
    "    return exact_rbf, exact_arccos0, exact_arccos1"
   ]
  },
  {
   "cell_type": "code",
   "execution_count": 18,
   "metadata": {},
   "outputs": [],
   "source": [
    "exact[dataset_name] = get_exact_scores(dataset_name)"
   ]
  },
  {
   "cell_type": "markdown",
   "metadata": {},
   "source": [
    "## compute scores with approximated kernels"
   ]
  },
  {
   "cell_type": "code",
   "execution_count": 10,
   "metadata": {},
   "outputs": [
    {
     "data": {
      "application/vnd.jupyter.widget-view+json": {
       "model_id": "bade8988682e40bbb3d689ba6558ea3e",
       "version_major": 2,
       "version_minor": 0
      },
      "text/html": [
       "<p>Failed to display Jupyter Widget of type <code>HBox</code>.</p>\n",
       "<p>\n",
       "  If you're reading this message in the Jupyter Notebook or JupyterLab Notebook, it may mean\n",
       "  that the widgets JavaScript is still loading. If this message persists, it\n",
       "  likely means that the widgets JavaScript library is either not installed or\n",
       "  not enabled. See the <a href=\"https://ipywidgets.readthedocs.io/en/stable/user_install.html\">Jupyter\n",
       "  Widgets Documentation</a> for setup instructions.\n",
       "</p>\n",
       "<p>\n",
       "  If you're reading this message in another frontend (for example, a static\n",
       "  rendering on GitHub or <a href=\"https://nbviewer.jupyter.org/\">NBViewer</a>),\n",
       "  it may mean that your frontend doesn't currently support widgets.\n",
       "</p>\n"
      ],
      "text/plain": [
       "HBox(children=(IntProgress(value=0, max=6), HTML(value='')))"
      ]
     },
     "metadata": {},
     "output_type": "display_data"
    },
    {
     "name": "stdout",
     "output_type": "stream",
     "text": [
      "\n",
      "CPU times: user 16min 54s, sys: 43.7 s, total: 17min 38s\n",
      "Wall time: 2min 37s\n"
     ]
    }
   ],
   "source": [
    "%%time\n",
    "%%telepyth\n",
    "for i in tnrange(len(approx_types)):\n",
    "    get_scores(dataset_name, kernels, approx_types[i], SVR, N, runs, scores)"
   ]
  },
  {
   "cell_type": "code",
   "execution_count": 11,
   "metadata": {},
   "outputs": [
    {
     "data": {
      "text/plain": [
       "array([[0.80214283, 0.82789098],\n",
       "       [0.8347224 , 0.83192275]])"
      ]
     },
     "execution_count": 11,
     "metadata": {},
     "output_type": "execute_result"
    }
   ],
   "source": [
    "scores['Powerplant']['Arccos 0']['G']"
   ]
  },
  {
   "cell_type": "markdown",
   "metadata": {},
   "source": [
    "# LETTER"
   ]
  },
  {
   "cell_type": "code",
   "execution_count": 13,
   "metadata": {},
   "outputs": [],
   "source": [
    "dataset_name = 'LETTER'\n",
    "exact[dataset_name] = get_exact_scores(dataset_name)"
   ]
  },
  {
   "cell_type": "code",
   "execution_count": 14,
   "metadata": {},
   "outputs": [
    {
     "data": {
      "application/vnd.jupyter.widget-view+json": {
       "model_id": "2cee5e968c034d1baf0fda6050bc76e6",
       "version_major": 2,
       "version_minor": 0
      },
      "text/html": [
       "<p>Failed to display Jupyter Widget of type <code>HBox</code>.</p>\n",
       "<p>\n",
       "  If you're reading this message in the Jupyter Notebook or JupyterLab Notebook, it may mean\n",
       "  that the widgets JavaScript is still loading. If this message persists, it\n",
       "  likely means that the widgets JavaScript library is either not installed or\n",
       "  not enabled. See the <a href=\"https://ipywidgets.readthedocs.io/en/stable/user_install.html\">Jupyter\n",
       "  Widgets Documentation</a> for setup instructions.\n",
       "</p>\n",
       "<p>\n",
       "  If you're reading this message in another frontend (for example, a static\n",
       "  rendering on GitHub or <a href=\"https://nbviewer.jupyter.org/\">NBViewer</a>),\n",
       "  it may mean that your frontend doesn't currently support widgets.\n",
       "</p>\n"
      ],
      "text/plain": [
       "HBox(children=(IntProgress(value=0, max=6), HTML(value='')))"
      ]
     },
     "metadata": {},
     "output_type": "display_data"
    },
    {
     "name": "stdout",
     "output_type": "stream",
     "text": [
      "\n",
      "CPU times: user 25min 26s, sys: 1min 26s, total: 26min 53s\n",
      "Wall time: 4min 17s\n"
     ]
    }
   ],
   "source": [
    "%%time\n",
    "%%telepyth\n",
    "for i in tnrange(len(approx_types)):\n",
    "    get_scores(dataset_name, kernels, approx_types[i], SVR, N, runs, scores)"
   ]
  },
  {
   "cell_type": "code",
   "execution_count": 15,
   "metadata": {},
   "outputs": [
    {
     "data": {
      "text/plain": [
       "array([[0.17340815, 0.17738766],\n",
       "       [0.17699719, 0.20017735]])"
      ]
     },
     "execution_count": 15,
     "metadata": {},
     "output_type": "execute_result"
    }
   ],
   "source": [
    "scores['LETTER']['Arccos 0']['G']"
   ]
  },
  {
   "cell_type": "markdown",
   "metadata": {},
   "source": [
    "# USPS"
   ]
  },
  {
   "cell_type": "code",
   "execution_count": null,
   "metadata": {},
   "outputs": [],
   "source": [
    "dataset_name = 'USPS'\n",
    "exact[dataset_name] = get_exact_scores(dataset_name)"
   ]
  },
  {
   "cell_type": "code",
   "execution_count": null,
   "metadata": {},
   "outputs": [
    {
     "data": {
      "application/vnd.jupyter.widget-view+json": {
       "model_id": "03d1e43c0673480080c63071d276aab7",
       "version_major": 2,
       "version_minor": 0
      },
      "text/html": [
       "<p>Failed to display Jupyter Widget of type <code>HBox</code>.</p>\n",
       "<p>\n",
       "  If you're reading this message in the Jupyter Notebook or JupyterLab Notebook, it may mean\n",
       "  that the widgets JavaScript is still loading. If this message persists, it\n",
       "  likely means that the widgets JavaScript library is either not installed or\n",
       "  not enabled. See the <a href=\"https://ipywidgets.readthedocs.io/en/stable/user_install.html\">Jupyter\n",
       "  Widgets Documentation</a> for setup instructions.\n",
       "</p>\n",
       "<p>\n",
       "  If you're reading this message in another frontend (for example, a static\n",
       "  rendering on GitHub or <a href=\"https://nbviewer.jupyter.org/\">NBViewer</a>),\n",
       "  it may mean that your frontend doesn't currently support widgets.\n",
       "</p>\n"
      ],
      "text/plain": [
       "HBox(children=(IntProgress(value=0, max=6), HTML(value='')))"
      ]
     },
     "metadata": {},
     "output_type": "display_data"
    }
   ],
   "source": [
    "%%time\n",
    "%%telepyth\n",
    "for i in tnrange(len(approx_types)):\n",
    "    get_scores(dataset_name, kernels, approx_types[i], SVR, N, runs, scores)"
   ]
  },
  {
   "cell_type": "code",
   "execution_count": null,
   "metadata": {},
   "outputs": [],
   "source": [
    "scores['LETTER']['Arccos 0']['G']"
   ]
  },
  {
   "cell_type": "markdown",
   "metadata": {},
   "source": [
    "# Plot downstream task performance"
   ]
  },
  {
   "cell_type": "code",
   "execution_count": 39,
   "metadata": {},
   "outputs": [
    {
     "data": {
      "image/png": "[encoded data removed]",
      "text/plain": [
       "<matplotlib.figure.Figure at 0x7f9e1475f518>"
      ]
     },
     "metadata": {},
     "output_type": "display_data"
    },
    {
     "data": {
      "image/png": "[encoded data removed]",
      "text/plain": [
       "<matplotlib.figure.Figure at 0x7f9e1475f518>"
      ]
     },
     "execution_count": 39,
     "metadata": {},
     "output_type": "execute_result"
    }
   ],
   "source": [
    "plot_errors(errs_d, datasets, kernels, approx_types, False, True, exact)"
   ]
  },
  {
   "cell_type": "code",
   "execution_count": 38,
   "metadata": {},
   "outputs": [],
   "source": [
    "def plot_errors(errs_dic, datasets, kernels, approx_types, semilogy=False,\n",
    "                acc=False, exact=None, params=None):\n",
    "    m = len(datasets)\n",
    "    n = len(kernels)\n",
    "    fig, axes = plt.subplots(ncols=m, nrows=n, figsize=(w*m, h))\n",
    "\n",
    "    if acc:\n",
    "        ylabel = r'accuracy/$R^2$'\n",
    "    else:\n",
    "        ylabel = r'$\\frac{\\|K - \\hat{K}\\|}{\\|K\\|}$'\n",
    "\n",
    "    for l, dataset_name in enumerate(datasets):\n",
    "        errs_d = errs_dic[dataset_name]\n",
    "        if params is None:\n",
    "                params = PARAMS[dataset_name]\n",
    "        start_deg, max_deg, _, shift, step, _, _ = params\n",
    "\n",
    "        x = np.arange(start_deg, max_deg + step, step) + shift\n",
    "        for k, kernel in enumerate(kernels):\n",
    "            errs = errs_d[kernel]\n",
    "            formatter = LogFormatterMathtext()\n",
    "            formatterx = ScalarFormatter(useMathText=True, useOffset=False)\n",
    "            formatterx.set_powerlimits((-1,1))\n",
    "            axes[k, l].xaxis.set_major_locator(MaxNLocator(integer=True))\n",
    "            axes[k, l].yaxis.set_major_locator(MaxNLocator(6))\n",
    "\n",
    "            ci = np.empty((max_deg, 2))\n",
    "            m = np.zeros(max_deg)\n",
    "            if acc:\n",
    "                axes[k, l].axhline(exact[dataset_name][kernel], linestyle='--',\n",
    "                                   label=r'\\textbf{exact}', color='black')\n",
    "            for a in approx_types:\n",
    "                if a in errs:\n",
    "                    er = errs[a]\n",
    "                else:\n",
    "                    continue\n",
    "                ma = MARKERS[a]\n",
    "                color = set_color(a)\n",
    "                for j in range(er.shape[0]):\n",
    "                    m[j], ci[j, 0], ci[j, 1] = \\\n",
    "                        mean_confidence_interval(er[j,:])\n",
    "                if semilogy:\n",
    "                    axes[k, l].yaxis.set_major_formatter(formatter)\n",
    "                    axes[k, l].semilogy(x, m, '.-', label=r'\\textbf{%s}' % a,\n",
    "                                        color=color, marker=ma, markersize=5)\n",
    "                    axes[k, l].fill_between(x, np.maximum(0, ci[:, 0]),\n",
    "                                            ci[:, 1], alpha=0.3, color=color)\n",
    "                else:\n",
    "                    axes[k, l].yaxis.set_major_formatter(formatterx)\n",
    "                    axes[k, l].plot(x, m, '.-', label=r'\\textbf{%s}' % a,\n",
    "                                    color=color, marker=ma, markersize=5)\n",
    "                    axes[k, l].fill_between(x, np.maximum(0, ci[:, 0]),\n",
    "                                            ci[:, 1], alpha=0.3, color=color)\n",
    "            # last row gets x labels\n",
    "            if k == n - 1:\n",
    "                axes[k, l].set_xlabel(r'$n$', fontsize=basefontsize)\n",
    "            # first column gets y labels\n",
    "            if l == 0:\n",
    "                axes[k, l].set_ylabel(ylabel, fontsize=bigfontsize)\n",
    "                if kernel == 'RBF':\n",
    "                    kernel_ = 'Gaussian'\n",
    "                else:\n",
    "                    kernel_ = kernel\n",
    "                axes[k, l].annotate(r'\\textbf{%s}' % kernel_, [0.,0.5],\n",
    "                                    xytext=(-axes[k, l].yaxis.labelpad, 0),\n",
    "                                    xycoords=axes[k, l].yaxis.label,\n",
    "                                    textcoords='offset points',\n",
    "                                    fontsize=bigfontsize, ha='right',\n",
    "                                    va='center', rotation=90)\n",
    "            # first row gets title\n",
    "            if k == 0:\n",
    "                title = r'\\textbf{%s}' % dataset_name\n",
    "                axes[k, l].set_title(title, fontsize=basefontsize,\n",
    "                                     y=title_h[semilogy])\n",
    "    # authentic organic hand-made legend!\n",
    "    patches = []\n",
    "    for a in approx_types:\n",
    "        patches.append(mlines.Line2D([], [], color=set_color(a),\n",
    "                                     marker=MARKERS[a], markersize=5,\n",
    "                                     label=a))\n",
    "    plt.legend(bbox_to_anchor=(1.05, legend_h[semilogy]),\n",
    "               loc=2, borderaxespad=0., framealpha=0.0,\n",
    "               fontsize=basefontsize, handles=patches)\n",
    "    # makes plot look nice\n",
    "    fig.tight_layout()\n",
    "    fig.subplots_adjust(left=left[semilogy], top=top[semilogy],\n",
    "                        right=right[semilogy])\n",
    "    plt.show()\n",
    "    return fig\n"
   ]
  }
 ],
 "metadata": {
  "kernelspec": {
   "display_name": "Python 3",
   "language": "python",
   "name": "python3"
  },
  "language_info": {
   "codemirror_mode": {
    "name": "ipython",
    "version": 3
   },
   "file_extension": ".py",
   "mimetype": "text/x-python",
   "name": "python",
   "nbconvert_exporter": "python",
   "pygments_lexer": "ipython3",
   "version": "3.6.4"
  }
 },
 "nbformat": 4,
 "nbformat_minor": 2
}
