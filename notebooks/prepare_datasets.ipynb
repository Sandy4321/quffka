{
 "cells": [
  {
   "cell_type": "code",
   "execution_count": 1,
   "metadata": {
    "collapsed": true
   },
   "outputs": [],
   "source": [
    "import os"
   ]
  },
  {
   "cell_type": "code",
   "execution_count": 1,
   "metadata": {},
   "outputs": [
    {
     "name": "stdout",
     "output_type": "stream",
     "text": [
      "python: can't open file 'cook_datasets.py': [Errno 2] No such file or directory\n"
     ]
    }
   ],
   "source": [
    "! python cook_datasets.py"
   ]
  },
  {
   "cell_type": "markdown",
   "metadata": {},
   "source": [
    "# Powerplant"
   ]
  },
  {
   "cell_type": "code",
   "execution_count": null,
   "metadata": {},
   "outputs": [],
   "source": []
  },
  {
   "cell_type": "markdown",
   "metadata": {},
   "source": [
    "# GISETTE\n"
   ]
  },
  {
   "cell_type": "code",
   "execution_count": null,
   "metadata": {},
   "outputs": [],
   "source": [
    "path = '../datasets/GISETTE/'"
   ]
  },
  {
   "cell_type": "code",
   "execution_count": null,
   "metadata": {},
   "outputs": [],
   "source": [
    "! wget  -O "
   ]
  },
  {
   "cell_type": "code",
   "execution_count": null,
   "metadata": {
    "collapsed": true
   },
   "outputs": [],
   "source": [
    "with open('/mnt/bulky1/maremun/GISETTE/gisette_train.labels', 'r') as f:\n",
    "    lines = f.readlines()\n",
    "\n",
    "n = len(lines)\n",
    "m = len(lines[0].strip().split())\n",
    "\n",
    "print(n, m)\n",
    "\n",
    "data_train = np.zeros((n, m))\n",
    "for i, l in enumerate(lines):\n",
    "    line = l.strip().split()\n",
    "    for j, e in enumerate(line):\n",
    "        data_train[i,j] = int(e)\n",
    "\n",
    "\n",
    "data_valid = np.zeros((n, m))\n",
    "for i, l in enumerate(lines):\n",
    "    line = l.strip().split()\n",
    "    for j, e in enumerate(line):\n",
    "        data_valid[i,j] = int(e)\n",
    "\n",
    "\n",
    "labels_train = np.zeros((n))\n",
    "for i, l in enumerate(lines):\n",
    "    labels_train[i] = int(l.strip())\n",
    "\n",
    "labels_valid = np.zeros((n))\n",
    "for i, l in enumerate(lines):\n",
    "    labels_valid[i] = int(l.strip())\n",
    "\n",
    "data = np.vstack([data_train, data_valid])\n",
    "data.shape\n",
    "\n",
    "np.save('/home/maremun/projects/rational/datasets/GISETTE/data.npy', data)\n",
    "\n",
    "labels = np.hstack([labels_train, labels_valid])\n",
    "labels.shape\n",
    "\n",
    "np.save('/home/maremun/projects/rational/datasets/GISETTE/labels.npy', labels)"
   ]
  }
 ],
 "metadata": {
  "kernelspec": {
   "display_name": "Python 3",
   "language": "python",
   "name": "python3"
  },
  "language_info": {
   "codemirror_mode": {
    "name": "ipython",
    "version": 3
   },
   "file_extension": ".py",
   "mimetype": "text/x-python",
   "name": "python",
   "nbconvert_exporter": "python",
   "pygments_lexer": "ipython3",
   "version": "3.5.4"
  }
 },
 "nbformat": 4,
 "nbformat_minor": 2
}
